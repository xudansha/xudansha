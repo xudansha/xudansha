{
 "cells": [
  {
   "cell_type": "markdown",
   "metadata": {},
   "source": [
    "# Assignment 6\n",
    "# Please don’t forhet rename it with your name and assignment number\n",
    "# Please submit 5 minutes recording with compressed format.\n",
    "# Dont name the programs with file names\n",
    "# dont use the Excercise Headings\n",
    "# submit code and recodging of running program.\n",
    "# Run the program and then save this file and submit this file."
   ]
  },
  {
   "cell_type": "markdown",
   "metadata": {},
   "source": [
    "# 6.1 Please dont read src/files/xy.dat instead create your own f(x) = g(x) explained during the class, g(x) can be any expnontial or parabolic function. choose your own range of f(x) but more then 300 points from any range.\n",
    "\n",
    "# Save these points to file and read your own file as data."
   ]
  },
  {
   "cell_type": "code",
   "execution_count": 26,
   "metadata": {},
   "outputs": [
    {
     "data": {
      "image/png": "[encoded data removed]",
      "text/plain": [
       "<Figure size 432x288 with 1 Axes>"
      ]
     },
     "metadata": {
      "needs_background": "light"
     },
     "output_type": "display_data"
    },
    {
     "name": "stdout",
     "output_type": "stream",
     "text": [
      "Minimum y value = 0.00\n",
      "Maximum y value = 4.00\n"
     ]
    }
   ],
   "source": [
    "import numpy\n",
    "from matplotlib.pyplot import plot, xlabel, ylabel, show \n",
    "\n",
    "x = []\n",
    "y = []\n",
    "\n",
    "infile = open('Assignment 6.1.txt', 'r')\n",
    "for line in infile:\n",
    "    data = line.split()\n",
    "    x.append(float(data[0]))\n",
    "    y.append(float(data[1]))\n",
    "infile.close()\n",
    "\n",
    "x, y = numpy.array(x), numpy.array(y)\n",
    "\n",
    "plot(x, y)\n",
    "xlabel('x')\n",
    "ylabel('y')\n",
    "show()\n",
    "\n",
    "print 'Minimum y value = %.2f' % y.min()\n",
    "print 'Maximum y value = %.2f' % y.max()\n",
    "\n"
   ]
  },
  {
   "cell_type": "markdown",
   "metadata": {},
   "source": [
    "# 6.2 you can take help of this excercise to understand more, however you need to create dictionary of todays weather of any five cities of us, check weather from any weather website and chose your cities. (save weather and city into file and read that into dictionary)"
   ]
  },
  {
   "cell_type": "code",
   "execution_count": 2,
   "metadata": {},
   "outputs": [],
   "source": [
    "import requests\n",
    "r = requests.get('https://samples.openweathermap.org/data/2.5/group?id=524901,703448,2643743&units=metric&appid=b6907d289e10d714a6e88b30761fae22')\n",
    " \n",
    "with open('Assignment 6.2.txt','w') as fd:\n",
    "    fd.write(r.text)"
   ]
  },
  {
   "cell_type": "markdown",
   "metadata": {},
   "source": [
    "# Write a program that read weather description, temp, pressure, humidity, sunrise\n",
    "\n",
    "# the weather API you need to use is below\n",
    "\n",
    "# https://samples.openweathermap.org/data/2.5/weather?zip=21043,us&appid=b6907d289e10d714a6e88b30761fae22\n",
    "\n",
    "# Note: change ZIP to your own location ZIP \n",
    "# Save this JSON to file and read that file that will print above required fields.\n",
    "# you can take help from the yahoo weather calculator example that explained during the session. this is also uploaded on the moodle."
   ]
  },
  {
   "cell_type": "code",
   "execution_count": 4,
   "metadata": {},
   "outputs": [
    {
     "name": "stdout",
     "output_type": "stream",
     "text": [
      "{\"cnt\":3,\"list\":[{\"coord\":{\"lon\":37.62,\"lat\":55.75},\"sys\":{\"type\":1,\"id\":7323,\"message\":0.0036,\"country\":\"RU\",\"sunrise\":1485753940,\"sunset\":1485784855},\"weather\":[{\"id\":800,\"main\":\"Clear\",\"description\":\"clear\n"
     ]
    }
   ],
   "source": [
    "infile = open('Assignment 6.2.txt', 'r')\n",
    "weather = {'City':[],'Description':[],'Temp':[],'Pressure':[],'Humidity':[]}\n",
    "\n",
    "for line in infile.readlines():\n",
    "    value = line.split()\n",
    "    weather['City'] = value[0]\n",
    "print value[0]  \n",
    "\n"
   ]
  },
  {
   "cell_type": "code",
   "execution_count": 30,
   "metadata": {},
   "outputs": [],
   "source": []
  },
  {
   "cell_type": "code",
   "execution_count": null,
   "metadata": {},
   "outputs": [],
   "source": []
  }
 ],
 "metadata": {
  "kernelspec": {
   "display_name": "Python 2",
   "language": "python",
   "name": "python2"
  },
  "language_info": {
   "codemirror_mode": {
    "name": "ipython",
    "version": 2
   },
   "file_extension": ".py",
   "mimetype": "text/x-python",
   "name": "python",
   "nbconvert_exporter": "python",
   "pygments_lexer": "ipython2",
   "version": "2.7.16"
  }
 },
 "nbformat": 4,
 "nbformat_minor": 2
}
