{
 "cells": [
  {
   "cell_type": "markdown",
   "metadata": {},
   "source": [
    "# Assignment 7\n",
    "# Please don’t forhet rename it with your name and assignment number\n",
    "# Please submit 5 minutes recording with compressed format.\n",
    "# Dont name the programs with file names\n",
    "# dont use the Excercise Headings\n",
    "# submit code and recodging of running program.\n",
    "# Run the program and then save this file and submit this file."
   ]
  },
  {
   "cell_type": "markdown",
   "metadata": {},
   "source": [
    "# 7.1 Create Simple Student Class with constructor to get first name and last name"
   ]
  },
  {
   "cell_type": "code",
   "execution_count": 10,
   "metadata": {},
   "outputs": [
    {
     "name": "stdout",
     "output_type": "stream",
     "text": [
      "First name: Xudan\n",
      "Last name: Sha\n"
     ]
    }
   ],
   "source": [
    "class student:\n",
    "    def __init__(self, first_name, last_name):\n",
    "        self.first_name = first_name\n",
    "        self.last_name = last_name\n",
    "        \n",
    "s1 = student('Xudan','Sha')\n",
    "print 'First name:', s1.first_name\n",
    "print 'Last name:', s1.last_name"
   ]
  },
  {
   "cell_type": "markdown",
   "metadata": {},
   "source": [
    "# 7.2 Create Address class with the constructor to get Student Address, the parameters can be , House/Apt Number, Street, Zip, State."
   ]
  },
  {
   "cell_type": "code",
   "execution_count": 11,
   "metadata": {},
   "outputs": [
    {
     "name": "stdout",
     "output_type": "stream",
     "text": [
      "House/Apt number: 2929\n",
      "Street: Plymouth St\n",
      "Zipcode: 48105\n",
      "State: MI\n"
     ]
    }
   ],
   "source": [
    "class address:\n",
    "    def __init__(self, num, street, zip, state):\n",
    "        self.num = num\n",
    "        self.street = street\n",
    "        self.zip = zip\n",
    "        self.state = state\n",
    "a1 = address(\"2929\",\"Plymouth St\",\"48105\", 'MI')\n",
    "\n",
    "print 'House/Apt number:', a1.num\n",
    "print 'Street:', a1.street\n",
    "print 'Zipcode:', a1.zip\n",
    "print 'State:', a1.state"
   ]
  },
  {
   "cell_type": "markdown",
   "metadata": {},
   "source": [
    "# 7.3 Modify Student Class so that it will get House/Apt Number, Street, Zip, State. and save address inside the Student as dictionary\n",
    "\n",
    "# Also implement the function in student class that print all addresses in the Student Class."
   ]
  },
  {
   "cell_type": "code",
   "execution_count": 18,
   "metadata": {},
   "outputs": [
    {
     "name": "stdout",
     "output_type": "stream",
     "text": [
      "{'State': 'MI', 'Street': 'Plymouth St', 'zip': '48105', 'House/Apt number': '2929'}\n"
     ]
    }
   ],
   "source": [
    "class student:\n",
    "    def __init__(self, first_name, last_name):\n",
    "        self.first_name = first_name\n",
    "        self.last_name = last_name\n",
    "    \n",
    "    def getAddress(self, num, street, zip, state):\n",
    "        self.address = {\"House/Apt number\":num,\"Street\":street,\"zip\":zip,\"State\":state}\n",
    "    \n",
    "    def show(self):\n",
    "        print self.address\n",
    "\n",
    "s1 = student('Xudan','Sha')\n",
    "s1.getAddress(\"2929\",\"Plymouth St\",\"48105\", 'MI')\n",
    "s1.show()"
   ]
  },
  {
   "cell_type": "markdown",
   "metadata": {},
   "source": [
    "# 7.4 Create Reacangle class, implement special function so that if we want to add two rectangles it will create another reactangle.\n",
    "# display adding two reactangles and its length and width."
   ]
  },
  {
   "cell_type": "code",
   "execution_count": 17,
   "metadata": {},
   "outputs": [
    {
     "name": "stdout",
     "output_type": "stream",
     "text": [
      "New rectangle length: 6\n",
      "New rectangle width: 8\n"
     ]
    }
   ],
   "source": [
    "class rectangle:\n",
    "    def __init__(self, length, width):\n",
    "        self.length = length\n",
    "        self.width = width\n",
    "    \n",
    "    def __add__(self, other):\n",
    "        return rectangle(self.length + other.length,self.width + other.width)\n",
    "    \n",
    "r1 = rectangle(2,3)\n",
    "r2 = rectangle(4,5)\n",
    "r3 =r1+r2\n",
    "print 'New rectangle length:',r3.length\n",
    "print 'New rectangle width:',r3.width\n"
   ]
  },
  {
   "cell_type": "code",
   "execution_count": null,
   "metadata": {},
   "outputs": [],
   "source": []
  },
  {
   "cell_type": "code",
   "execution_count": null,
   "metadata": {},
   "outputs": [],
   "source": []
  }
 ],
 "metadata": {
  "kernelspec": {
   "display_name": "Python 2",
   "language": "python",
   "name": "python2"
  },
  "language_info": {
   "codemirror_mode": {
    "name": "ipython",
    "version": 2
   },
   "file_extension": ".py",
   "mimetype": "text/x-python",
   "name": "python",
   "nbconvert_exporter": "python",
   "pygments_lexer": "ipython2",
   "version": "2.7.16"
  }
 },
 "nbformat": 4,
 "nbformat_minor": 2
}
